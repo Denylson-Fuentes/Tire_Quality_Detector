{
 "cells": [
  {
   "cell_type": "code",
   "execution_count": 1,
   "id": "4bd80f0e-54ed-4e4e-bfd7-95e5a034da81",
   "metadata": {},
   "outputs": [],
   "source": [
    "import os\n",
    "import random\n",
    "from PIL import Image\n",
    "from torchvision import transforms"
   ]
  },
  {
   "cell_type": "code",
   "execution_count": 2,
   "id": "1ee595df-6fa4-4d75-9421-cc5283b179c0",
   "metadata": {},
   "outputs": [],
   "source": [
    "data_transforms = transforms.Compose([\n",
    "    transforms.RandomResizedCrop(224),\n",
    "    transforms.RandomHorizontalFlip(),\n",
    "    transforms.RandomRotation(10),\n",
    "    transforms.ColorJitter(brightness=0.2, contrast=0.2, saturation=0.2, hue=0.2),\n",
    "    transforms.RandomGrayscale(p=0.2),\n",
    "])"
   ]
  },
  {
   "cell_type": "code",
   "execution_count": 3,
   "id": "a20413bb-c923-4834-94f7-6d0227c6dd7b",
   "metadata": {},
   "outputs": [],
   "source": [
    "def augment_and_save_images(input_dir, output_dir, num_augmentations):\n",
    "    # Ensure the output directory exists\n",
    "    os.makedirs(output_dir, exist_ok=True)\n",
    "\n",
    "    # List all image files in the input directory\n",
    "    image_files = [f for f in os.listdir(input_dir) if f.endswith(\".jpg\")]\n",
    "\n",
    "    for image_file in image_files:\n",
    "        input_path = os.path.join(input_dir, image_file)\n",
    "        output_basename = os.path.splitext(image_file)[0]\n",
    "\n",
    "        # Load the original image\n",
    "        image = Image.open(input_path)\n",
    "\n",
    "        for i in range(num_augmentations):\n",
    "            # Apply data augmentation transformations\n",
    "            augmented_image = data_transforms(image)\n",
    "\n",
    "            # Save the augmented image with a unique filename\n",
    "            output_path = os.path.join(output_dir, f\"{output_basename}_{i}.jpg\")\n",
    "            augmented_image.save(output_path)"
   ]
  },
  {
   "cell_type": "code",
   "execution_count": 4,
   "id": "cea93404-4e6f-4c87-a587-71c7f567607d",
   "metadata": {},
   "outputs": [],
   "source": [
    "input_directory = \"./data/good/\"\n",
    "output_directory = \"./data/good/\"\n",
    "num_augmentations = 5  # Number of augmented images per original image\n",
    "\n",
    "augment_and_save_images(input_directory, output_directory, num_augmentations)"
   ]
  },
  {
   "cell_type": "code",
   "execution_count": 5,
   "id": "23c2d906-9dc5-43bf-a88d-987d9224e12f",
   "metadata": {},
   "outputs": [],
   "source": [
    "input_directory = \"./data/defective/\"\n",
    "output_directory = \"./data/defective/\"\n",
    "num_augmentations = 5  # Number of augmented images per original image\n",
    "\n",
    "augment_and_save_images(input_directory, output_directory, num_augmentations)"
   ]
  },
  {
   "cell_type": "code",
   "execution_count": null,
   "id": "a456edf5-a464-4b46-a804-d1a42f561fcb",
   "metadata": {},
   "outputs": [],
   "source": []
  }
 ],
 "metadata": {
  "kernelspec": {
   "display_name": "Python 3 (ipykernel)",
   "language": "python",
   "name": "python3"
  },
  "language_info": {
   "codemirror_mode": {
    "name": "ipython",
    "version": 3
   },
   "file_extension": ".py",
   "mimetype": "text/x-python",
   "name": "python",
   "nbconvert_exporter": "python",
   "pygments_lexer": "ipython3",
   "version": "3.9.16"
  }
 },
 "nbformat": 4,
 "nbformat_minor": 5
}
